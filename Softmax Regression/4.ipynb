{
 "cells": [
  {
   "cell_type": "code",
   "execution_count": 1,
   "id": "8d2eab18-2b63-4df5-978c-54cbaedfa320",
   "metadata": {},
   "outputs": [],
   "source": [
    "import numpy as np\n",
    "import matplotlib.pyplot as plt\n",
    "from sklearn.datasets import fetch_openml\n",
    "from sklearn.linear_model import LogisticRegression\n",
    "from sklearn.preprocessing import StandardScaler\n",
    "from sklearn.model_selection import train_test_split"
   ]
  },
  {
   "cell_type": "code",
   "execution_count": 3,
   "id": "f6ae5eca-3fbc-4290-b2e8-a7a25cffc69f",
   "metadata": {},
   "outputs": [],
   "source": [
    "# Load MNIST dataset\n",
    "mnist = fetch_openml('mnist_784', version=1)\n",
    "X, y = mnist[\"data\"], mnist[\"target\"].astype(np.int8)"
   ]
  },
  {
   "cell_type": "code",
   "execution_count": 5,
   "id": "758bde13-23eb-4cfe-ac32-3f2487d45b18",
   "metadata": {},
   "outputs": [],
   "source": [
    "# Split data into training and testing sets\n",
    "X_train, X_test, y_train, y_test = train_test_split(X, y, test_size=10000, random_state=42)\n"
   ]
  },
  {
   "cell_type": "code",
   "execution_count": 7,
   "id": "1191f1bd-6629-4a08-9bc8-ae3a92188c98",
   "metadata": {},
   "outputs": [],
   "source": [
    "# Normalize the data\n",
    "scaler = StandardScaler()\n",
    "X_train_scaled = scaler.fit_transform(X_train.astype(np.float64))\n",
    "X_test_scaled = scaler.transform(X_test.astype(np.float64))"
   ]
  },
  {
   "cell_type": "code",
   "execution_count": 9,
   "id": "cd1cc414-1328-4ec7-9b63-51f3b8612f00",
   "metadata": {},
   "outputs": [],
   "source": [
    "# Initialize list to store weight variations (L-infinity norm changes)\n",
    "weights_diff = []\n",
    "n_iterations = 10  # Number of iterations for tracking"
   ]
  },
  {
   "cell_type": "code",
   "execution_count": 11,
   "id": "a0a1a68f-4811-4b1c-a07c-87d4fb88b27f",
   "metadata": {},
   "outputs": [],
   "source": [
    "# Initial weights (for comparison at the first iteration)\n",
    "previous_weights = np.zeros((10, X_train.shape[1]))  # 10 classes, 784 features\n"
   ]
  },
  {
   "cell_type": "code",
   "execution_count": null,
   "id": "c47c7414-5675-443c-9a62-3e7a0fdb5f33",
   "metadata": {},
   "outputs": [],
   "source": [
    "# Loop over different numbers of iterations to track weight changes\n",
    "for i in range(1, n_iterations + 1):\n",
    "    softmax_reg = LogisticRegression(solver=\"saga\", max_iter=i*100, random_state=42)\n",
    "    softmax_reg.fit(X_train_scaled, y_train)\n",
    "    \n",
    "    # Get the current weights\n",
    "    current_weights = softmax_reg.coef_\n",
    "    \n",
    "     # Calculate L-infinity norm (maximum absolute difference) \n",
    "    weight_change = np.linalg.norm(current_weights - previous_weights, ord=np.inf)\n",
    "    weights_diff.append(weight_change)\n",
    "    \n",
    "    # Update previous weights for the next iteration\n",
    "    previous_weights = current_weights.copy()\n"
   ]
  },
  {
   "cell_type": "code",
   "execution_count": null,
   "id": "b7a6a884-822a-47c9-b5fc-dfa49f1014a3",
   "metadata": {},
   "outputs": [],
   "source": [
    "# Plotting the L-infinity norm of weight changes across iterations\n",
    "plt.plot(range(1, n_iterations + 1), weights_diff, marker='o')\n",
    "plt.title('l-Infinity Norm of Weight Changes Across Iterations')\n",
    "plt.xlabel('Iteration')\n",
    "plt.ylabel('l-Infinity Norm of Weight Change')\n",
    "plt.grid(True)\n",
    "plt.show()"
   ]
  }
 ],
 "metadata": {
  "kernelspec": {
   "display_name": "Python 3 (ipykernel)",
   "language": "python",
   "name": "python3"
  },
  "language_info": {
   "codemirror_mode": {
    "name": "ipython",
    "version": 3
   },
   "file_extension": ".py",
   "mimetype": "text/x-python",
   "name": "python",
   "nbconvert_exporter": "python",
   "pygments_lexer": "ipython3",
   "version": "3.12.4"
  }
 },
 "nbformat": 4,
 "nbformat_minor": 5
}
